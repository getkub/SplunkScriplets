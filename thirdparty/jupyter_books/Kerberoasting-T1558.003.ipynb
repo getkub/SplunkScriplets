{
 "cells": [
  {
   "cell_type": "markdown",
   "metadata": {},
   "source": [
    "# Kerberoasting-T1558.003 TH Notebook"
   ]
  },
  {
   "cell_type": "code",
   "execution_count": 1,
   "metadata": {},
   "outputs": [],
   "source": [
    "from pyspark.sql import SparkSession\n",
    "from pyspark.sql import functions as F\n",
    "from datetime import timedelta \n",
    "import pandas as pd"
   ]
  },
  {
   "cell_type": "code",
   "execution_count": 2,
   "metadata": {},
   "outputs": [],
   "source": [
    "pd.set_option('display.max_columns', 50)"
   ]
  },
  {
   "cell_type": "code",
   "execution_count": 3,
   "metadata": {},
   "outputs": [],
   "source": [
    "pd.set_option(\"max_colwidth\", None)"
   ]
  },
  {
   "cell_type": "code",
   "execution_count": 4,
   "metadata": {},
   "outputs": [],
   "source": [
    "spark = SparkSession.builder \\\n",
    "    .appName(\"Kerberoasting\") \\\n",
    "    .master(\"spark://helk-spark-master:7077\") \\\n",
    "    .config(\"spark.executor.memory\",\"5g\") \\\n",
    "    .enableHiveSupport() \\\n",
    "    .getOrCreate()\n",
    "spark.conf.set(\"spark.sql.caseSensitive\", \"true\")"
   ]
  },
  {
   "cell_type": "code",
   "execution_count": 5,
   "metadata": {},
   "outputs": [],
   "source": [
    "es_reader = (spark.read.format(\"org.elasticsearch.spark.sql\")\n",
    "    .option(\"inferSchema\", \"true\")\n",
    "    .option(\"es.nodes\",\"\")\n",
    "    .option(\"es.nodes.wan.only\",\"true\")\n",
    "    .option(\"es.net.http.auth.user\",\"elastic\"))"
   ]
  },
  {
   "cell_type": "code",
   "execution_count": 6,
   "metadata": {},
   "outputs": [],
   "source": [
    "sysmon_df = es_reader.load(\"logs-endpoint-winevent-sysmon-2020.03.*\")\n",
    "security_df = es_reader.load(\"logs-endpoint-winevent-security-2020.03.*\")\n",
    "winevent_etw_df = es_reader.load(\"logs-endpoint-winevent-etw-2020.03.*\")"
   ]
  },
  {
   "cell_type": "markdown",
   "metadata": {},
   "source": [
    "##### Filter the suspicious Ldap queries by SilkETW sensor  "
   ]
  },
  {
   "cell_type": "code",
   "execution_count": 7,
   "metadata": {},
   "outputs": [],
   "source": [
    "servicePrincipalName_df = winevent_etw_df.filter( (winevent_etw_df.ProviderName == \"Microsoft-Windows-LDAP-Client\") & (winevent_etw_df.SearchFilter.rlike(\"(?i)serviceprincipalname=*\")) ).groupby(winevent_etw_df.PID,winevent_etw_df.computer_name).agg(F.collect_set(\"SearchFilter\").alias(\"SearchFilter\"),F.collect_set(\"AttributeList\").alias(\"AttributeList\"),F.collect_set(\"DistinguishedName\").alias(\"DistinguishedName\"),F.min(\"event.created\").alias(\"min_time_etw\"),F.max(\"event.created\").alias(\"max_time_etw\"))"
   ]
  },
  {
   "cell_type": "markdown",
   "metadata": {},
   "source": [
    "##### Filter Ldap communication by Sysmon sensor"
   ]
  },
  {
   "cell_type": "code",
   "execution_count": 8,
   "metadata": {},
   "outputs": [],
   "source": [
    "ldap_communication = sysmon_df.where( (sysmon_df.event_id == 3) & (sysmon_df.dst_port == 389) ).groupby(sysmon_df.process_guid,sysmon_df.process_id, sysmon_df.host_name).agg(F.first(F.col(\"src_ip_addr\")).alias(\"src_ip_addr_ldapSeesion\"),F.first(F.col(\"dst_ip_addr\")).alias(\"dst_ip_addr_ldapSeesion\"),F.first(F.col(\"src_port\")).alias(\"src_port_ldapSeesion\"),F.first(F.col(\"dst_port\")).alias(\"dst_port_ldapSeesion\"),F.first(F.col(\"user_account\")).alias(\"user_account\"),F.min('@timestamp').alias(\"min_time_communication_ldap\"),F.max('@timestamp').alias(\"max_time_communication_ldap\"))"
   ]
  },
  {
   "cell_type": "markdown",
   "metadata": {},
   "source": [
    "##### Join between suspicious Ldap queries with the process who generated them"
   ]
  },
  {
   "cell_type": "code",
   "execution_count": 9,
   "metadata": {},
   "outputs": [],
   "source": [
    "servicePrincipalName_join_sysmon_df = ldap_communication.join(servicePrincipalName_df, (ldap_communication.process_id == servicePrincipalName_df.PID) & \n",
    "                                      (ldap_communication.host_name == servicePrincipalName_df.computer_name),how = \"inner\")"
   ]
  },
  {
   "cell_type": "markdown",
   "metadata": {},
   "source": [
    "##### Remove the duplicate fields"
   ]
  },
  {
   "cell_type": "code",
   "execution_count": 10,
   "metadata": {},
   "outputs": [],
   "source": [
    "servicePrincipalName_join_sysmon_df = servicePrincipalName_join_sysmon_df.drop(\"PID\").drop(\"computer_name\")"
   ]
  },
  {
   "cell_type": "markdown",
   "metadata": {},
   "source": [
    "##### Sysmon 1 - Process creation"
   ]
  },
  {
   "cell_type": "code",
   "execution_count": 11,
   "metadata": {},
   "outputs": [],
   "source": [
    "event_1_sysmon = sysmon_df.where(sysmon_df.event_id == '1').groupby(sysmon_df.process_guid, sysmon_df.host_name).agg(F.first(\"process_name\").alias(\"process_name\"),F.first(\"process_path\").alias(\"process_path\"),F.first(\"process_command_line\").alias(\"process_command_line\"),F.first(\"process_parent_name\").alias(\"process_parent_name\"),F.first(\"process_parent_path\").alias(\"process_parent_path\"),F.first(\"process_parent_command_line\").alias(\"process_parent_command_line\"),F.first(\"hash_sha1\").alias(\"hash_sha1\"))"
   ]
  },
  {
   "cell_type": "markdown",
   "metadata": {},
   "source": [
    "##### Sysmon event 11 - created file"
   ]
  },
  {
   "cell_type": "code",
   "execution_count": 12,
   "metadata": {},
   "outputs": [],
   "source": [
    "event_11_sysmon = sysmon_df.where(sysmon_df.event_id == '11').groupby(sysmon_df.process_guid, sysmon_df.host_name).agg(F.collect_set(\"file_name\").alias(\"files_created\"),F.min('@timestamp').alias(\"min_time_files\"),F.max('@timestamp').alias(\"max_time_files\"))"
   ]
  },
  {
   "cell_type": "markdown",
   "metadata": {},
   "source": [
    "##### Sysmon event 12 - Registry key and value create and delete "
   ]
  },
  {
   "cell_type": "code",
   "execution_count": 13,
   "metadata": {},
   "outputs": [],
   "source": [
    "event_12_sysmon = sysmon_df.where(sysmon_df.event_id == '12').groupby(sysmon_df.process_guid, sysmon_df.host_name).agg(F.collect_set(\"registry_key_path\").alias(\"registry_createdDeleted\"),F.min('@timestamp').alias(\"mintime_registry_createdDeleted\"),F.max('@timestamp').alias(\"maxtime_registry_createdDeleted\"))"
   ]
  },
  {
   "cell_type": "markdown",
   "metadata": {},
   "source": [
    "##### Sysmon event 13 - Registry value modifications"
   ]
  },
  {
   "cell_type": "code",
   "execution_count": 14,
   "metadata": {},
   "outputs": [],
   "source": [
    "event_13_sysmon = sysmon_df.where(sysmon_df.event_id == '13').groupby(sysmon_df.process_guid, sysmon_df.host_name).agg(F.collect_set(\"registry_key_path\").alias(\"registry_valueSet\"),F.min('@timestamp').alias(\"mintime_registry_valueSet\"),F.max('@timestamp').alias(\"maxtime_registry_valueSet\"))"
   ]
  },
  {
   "cell_type": "markdown",
   "metadata": {},
   "source": [
    "##### Sysmon event 14 - Registry key and value rename"
   ]
  },
  {
   "cell_type": "code",
   "execution_count": 15,
   "metadata": {},
   "outputs": [],
   "source": [
    "event_14_sysmon = sysmon_df.where(sysmon_df.event_id == '14').groupby(sysmon_df.process_guid, sysmon_df.host_name).agg(F.collect_set(\"registry_key_path\").alias(\"registry_rename\"),F.min('@timestamp').alias(\"mintime_registry_rename\"),F.max('@timestamp').alias(\"maxtime_registry_rename\"))"
   ]
  },
  {
   "cell_type": "markdown",
   "metadata": {},
   "source": [
    "##### Filter Kerberos communication by Sysmon sensor"
   ]
  },
  {
   "cell_type": "code",
   "execution_count": 16,
   "metadata": {},
   "outputs": [],
   "source": [
    "kerb_communication = sysmon_df.where( (sysmon_df.event_id == 3) & (sysmon_df.dst_port == 88) ).select(sysmon_df.process_guid,sysmon_df.process_id, sysmon_df.host_name,F.col('@timestamp'),sysmon_df.src_ip_addr,sysmon_df.dst_ip_addr, sysmon_df.src_port, sysmon_df.dst_port).withColumn('seesionMetadata', F.concat(F.col('src_ip_addr'),F.lit('|'), F.col('dst_ip_addr'),F.lit('|'), F.col('src_port'),F.lit('|'), F.col('dst_port')))"
   ]
  },
  {
   "cell_type": "markdown",
   "metadata": {},
   "source": [
    "##### Drop duplicates"
   ]
  },
  {
   "cell_type": "code",
   "execution_count": 17,
   "metadata": {},
   "outputs": [],
   "source": [
    "kerb_communication = kerb_communication.drop_duplicates()"
   ]
  },
  {
   "cell_type": "code",
   "execution_count": 18,
   "metadata": {},
   "outputs": [],
   "source": [
    "kerb_communication_concatSession = kerb_communication.groupby(kerb_communication.process_guid, kerb_communication.host_name).agg(F.collect_set(\"seesionMetadata\").alias(\"seesionMetadata\"))"
   ]
  },
  {
   "cell_type": "markdown",
   "metadata": {},
   "source": [
    "##### Join between the process that generated suspicious Ldap queries and correlate with other events"
   ]
  },
  {
   "cell_type": "code",
   "execution_count": 19,
   "metadata": {},
   "outputs": [],
   "source": [
    "kerb_join_1 = event_1_sysmon.join(servicePrincipalName_join_sysmon_df, on = ['process_guid','host_name'] ,how='right')"
   ]
  },
  {
   "cell_type": "code",
   "execution_count": 20,
   "metadata": {},
   "outputs": [],
   "source": [
    "kerb_join_2 = event_11_sysmon.join(kerb_join_1, on = ['process_guid','host_name'] ,how='right')"
   ]
  },
  {
   "cell_type": "code",
   "execution_count": 21,
   "metadata": {},
   "outputs": [],
   "source": [
    "kerb_join_3 = event_12_sysmon.join(kerb_join_2, on = ['process_guid','host_name'] ,how='right')"
   ]
  },
  {
   "cell_type": "code",
   "execution_count": 22,
   "metadata": {},
   "outputs": [],
   "source": [
    "kerb_join_4 = event_13_sysmon.join(kerb_join_3, on = ['process_guid','host_name'] ,how='right')"
   ]
  },
  {
   "cell_type": "code",
   "execution_count": 23,
   "metadata": {},
   "outputs": [],
   "source": [
    "kerb_join_5 = event_14_sysmon.join(kerb_join_4, on = ['process_guid','host_name'] ,how='right')"
   ]
  },
  {
   "cell_type": "code",
   "execution_count": 24,
   "metadata": {},
   "outputs": [],
   "source": [
    "kerb_join_6 = kerb_communication_concatSession.join(kerb_join_5, on = ['process_guid','host_name'] ,how='right')"
   ]
  },
  {
   "cell_type": "markdown",
   "metadata": {},
   "source": [
    "##### Extract the sessions that made Kerberos traffic "
   ]
  },
  {
   "cell_type": "code",
   "execution_count": 25,
   "metadata": {},
   "outputs": [],
   "source": [
    "df_explode = kerb_join_6.withColumn(\"seesionMetadataExplode\", F.explode(kerb_join_6.seesionMetadata))"
   ]
  },
  {
   "cell_type": "code",
   "execution_count": 26,
   "metadata": {},
   "outputs": [],
   "source": [
    "df_split = df_explode.withColumn(\"_tmp\", F.split(F.col(\"seesionMetadataExplode\"), \"\\|\"))"
   ]
  },
  {
   "cell_type": "code",
   "execution_count": 27,
   "metadata": {},
   "outputs": [],
   "source": [
    "df_split2 = df_split.withColumn(\"ip_src_kerb\" , F.col(\"_tmp\").getItem(0)).withColumn( \"ip_dst_kerb\" , F.col(\"_tmp\").getItem(1)).withColumn( \"port_src_kerb\", F.col(\"_tmp\").getItem(2)).withColumn(\"port_dst_kerb\" , F.col(\"_tmp\").getItem(3)).drop(\"_tmp\").drop(\"seesionMetadataExplode\").drop(\"seesionMetadata\")"
   ]
  },
  {
   "cell_type": "markdown",
   "metadata": {},
   "source": [
    "##### Event 4679 - request TGS by Security log events from DC "
   ]
  },
  {
   "cell_type": "code",
   "execution_count": 28,
   "metadata": {},
   "outputs": [],
   "source": [
    "kerberos_logs = security_df.filter( security_df.event_id == \"4769\").groupby(security_df.IPv4, security_df.src_port).agg(F.collect_set(\"service_ticket_name\").alias(\"service_ticket_name_requests_account_by_sessions\") , F.collect_set(\"service_ticket_id\").alias(\"service_ticket_id\") , F.collect_set(\"ticket_encryption_type\").alias(\"ticket_encryption_type\") ,F.min(\"@timestamp\").alias(\"requests_service_account_min_time\"),F.max(\"@timestamp\").alias(\"requests_service_account_max_time\"))"
   ]
  },
  {
   "cell_type": "markdown",
   "metadata": {},
   "source": [
    "##### Join between the Kerberos traffic with the suspicious process who generate event 4679 TGS request"
   ]
  },
  {
   "cell_type": "code",
   "execution_count": 29,
   "metadata": {},
   "outputs": [],
   "source": [
    "kerb_join_6 = kerberos_logs.join(df_split2, (kerberos_logs.IPv4 == df_split2.ip_src_kerb) & (kerberos_logs.src_port == df_split2.port_src_kerb)  ,how='inner')"
   ]
  },
  {
   "cell_type": "code",
   "execution_count": 30,
   "metadata": {},
   "outputs": [],
   "source": [
    "final_results = kerb_join_6.drop('IPv4').drop('src_port')"
   ]
  },
  {
   "cell_type": "code",
   "execution_count": 31,
   "metadata": {},
   "outputs": [],
   "source": [
    "final_results = final_results.toPandas()"
   ]
  },
  {
   "cell_type": "code",
   "execution_count": 32,
   "metadata": {},
   "outputs": [
    {
     "data": {
      "text/html": [
       "<div>\n",
       "<style scoped>\n",
       "    .dataframe tbody tr th:only-of-type {\n",
       "        vertical-align: middle;\n",
       "    }\n",
       "\n",
       "    .dataframe tbody tr th {\n",
       "        vertical-align: top;\n",
       "    }\n",
       "\n",
       "    .dataframe thead th {\n",
       "        text-align: right;\n",
       "    }\n",
       "</style>\n",
       "<table border=\"1\" class=\"dataframe\">\n",
       "  <thead>\n",
       "    <tr style=\"text-align: right;\">\n",
       "      <th></th>\n",
       "      <th>service_ticket_name_requests_account_by_sessions</th>\n",
       "      <th>service_ticket_id</th>\n",
       "      <th>ticket_encryption_type</th>\n",
       "      <th>process_guid</th>\n",
       "      <th>host_name</th>\n",
       "      <th>process_id</th>\n",
       "      <th>process_name</th>\n",
       "      <th>process_path</th>\n",
       "      <th>process_command_line</th>\n",
       "      <th>hash_sha1</th>\n",
       "      <th>user_account</th>\n",
       "      <th>SearchFilter</th>\n",
       "      <th>DistinguishedName</th>\n",
       "      <th>src_ip_addr_ldapSeesion</th>\n",
       "      <th>dst_ip_addr_ldapSeesion</th>\n",
       "      <th>src_port_ldapSeesion</th>\n",
       "      <th>dst_port_ldapSeesion</th>\n",
       "      <th>ip_src_kerb</th>\n",
       "      <th>ip_dst_kerb</th>\n",
       "      <th>port_src_kerb</th>\n",
       "      <th>port_dst_kerb</th>\n",
       "      <th>files_created</th>\n",
       "      <th>registry_createdDeleted</th>\n",
       "      <th>registry_valueSet</th>\n",
       "      <th>registry_rename</th>\n",
       "      <th>requests_service_account_min_time</th>\n",
       "      <th>requests_service_account_max_time</th>\n",
       "      <th>min_time_communication_ldap</th>\n",
       "      <th>max_time_communication_ldap</th>\n",
       "      <th>min_time_etw</th>\n",
       "      <th>max_time_etw</th>\n",
       "    </tr>\n",
       "  </thead>\n",
       "  <tbody>\n",
       "    <tr>\n",
       "      <th>0</th>\n",
       "      <td>[apacheservice]</td>\n",
       "      <td>[S-1-5-21-459946217-3195776219-3473239022-1111]</td>\n",
       "      <td>[0x17]</td>\n",
       "      <td>73308e2a-0b13-5e72-0000-001052d65300</td>\n",
       "      <td>win10.research.com</td>\n",
       "      <td>3328</td>\n",
       "      <td>rubeus.exe</td>\n",
       "      <td>c:\\users\\user1\\appdata\\roaming\\microsoft\\windows\\templates\\rubeus.exe</td>\n",
       "      <td>\"c:\\users\\user1\\appdata\\roaming\\microsoft\\windows\\templates\\rubeus.exe\" kerberoast /usetgtdeleg /outfile:hashes_nt.txt</td>\n",
       "      <td>862241E2DBFF4384BCB61029D34585CBE1F9C39E</td>\n",
       "      <td>research\\user1</td>\n",
       "      <td>[(&amp;(samAccountType=805306368)(servicePrincipalName=*)(!samAccountName=krbtgt)(!(UserAccountControl:1.2.840.113556.1.4.803:=2)))]</td>\n",
       "      <td>[DC=research,DC=com]</td>\n",
       "      <td>10.169.232.12</td>\n",
       "      <td>10.169.232.11</td>\n",
       "      <td>49902</td>\n",
       "      <td>389</td>\n",
       "      <td>10.169.232.12</td>\n",
       "      <td>10.169.232.11</td>\n",
       "      <td>49904</td>\n",
       "      <td>88</td>\n",
       "      <td>[c:\\users\\user1\\appdata\\roaming\\microsoft\\windows\\templates\\hashes_nt.txt, c:\\users\\user1\\appdata\\local\\microsoft\\windows\\schcache\\research.com.sch]</td>\n",
       "      <td>[HKU\\S-1-5-21-459946217-3195776219-3473239022-1112\\Software\\Microsoft\\ADs\\Providers\\LDAP\\CN=Aggregate,CN=Schema,CN=Configuration,DC=research,DC=com\\File, HKU\\S-1-5-21-459946217-3195776219-3473239022-1112\\Software\\Microsoft\\Windows\\CurrentVersion\\Internet Settings\\ZoneMap, HKLM\\System\\CurrentControlSet\\Services\\Tcpip\\Parameters, HKU\\S-1-5-21-459946217-3195776219-3473239022-1112\\Software\\Microsoft\\ADs\\Providers\\LDAP\\CN=Aggregate,CN=Schema,CN=Configuration,DC=research,DC=com]</td>\n",
       "      <td>[HKU\\S-1-5-21-459946217-3195776219-3473239022-1112\\Software\\Microsoft\\Windows\\CurrentVersion\\Internet Settings\\ZoneMap\\AutoDetect, HKU\\S-1-5-21-459946217-3195776219-3473239022-1112\\Software\\Microsoft\\Windows\\CurrentVersion\\Internet Settings\\ZoneMap\\IntranetName, HKU\\S-1-5-21-459946217-3195776219-3473239022-1112\\Software\\Microsoft\\ADs\\Providers\\LDAP\\CN=Aggregate,CN=Schema,CN=Configuration,DC=research,DC=com\\File, HKU\\S-1-5-21-459946217-3195776219-3473239022-1112\\Software\\Microsoft\\Windows\\CurrentVersion\\Internet Settings\\ZoneMap\\ProxyBypass, HKU\\S-1-5-21-459946217-3195776219-3473239022-1112\\Software\\Microsoft\\Windows\\CurrentVersion\\Internet Settings\\ZoneMap\\UNCAsIntranet, HKU\\S-1-5-21-459946217-3195776219-3473239022-1112\\Software\\Microsoft\\ADs\\Providers\\LDAP\\CN=Aggregate,CN=Schema,CN=Configuration,DC=research,DC=com\\Time]</td>\n",
       "      <td>None</td>\n",
       "      <td>2020-03-18 11:50:44.545</td>\n",
       "      <td>2020-03-18 11:50:44.545</td>\n",
       "      <td>2020-03-18 11:50:45.243</td>\n",
       "      <td>2020-03-18 11:50:45.243</td>\n",
       "      <td>2020-03-18 11:50:46.700</td>\n",
       "      <td>2020-03-18 11:50:46.700</td>\n",
       "    </tr>\n",
       "    <tr>\n",
       "      <th>1</th>\n",
       "      <td>[sqlservice]</td>\n",
       "      <td>[S-1-5-21-459946217-3195776219-3473239022-1110]</td>\n",
       "      <td>[0x17]</td>\n",
       "      <td>73308e2a-0b13-5e72-0000-001052d65300</td>\n",
       "      <td>win10.research.com</td>\n",
       "      <td>3328</td>\n",
       "      <td>rubeus.exe</td>\n",
       "      <td>c:\\users\\user1\\appdata\\roaming\\microsoft\\windows\\templates\\rubeus.exe</td>\n",
       "      <td>\"c:\\users\\user1\\appdata\\roaming\\microsoft\\windows\\templates\\rubeus.exe\" kerberoast /usetgtdeleg /outfile:hashes_nt.txt</td>\n",
       "      <td>862241E2DBFF4384BCB61029D34585CBE1F9C39E</td>\n",
       "      <td>research\\user1</td>\n",
       "      <td>[(&amp;(samAccountType=805306368)(servicePrincipalName=*)(!samAccountName=krbtgt)(!(UserAccountControl:1.2.840.113556.1.4.803:=2)))]</td>\n",
       "      <td>[DC=research,DC=com]</td>\n",
       "      <td>10.169.232.12</td>\n",
       "      <td>10.169.232.11</td>\n",
       "      <td>49902</td>\n",
       "      <td>389</td>\n",
       "      <td>10.169.232.12</td>\n",
       "      <td>10.169.232.11</td>\n",
       "      <td>49903</td>\n",
       "      <td>88</td>\n",
       "      <td>[c:\\users\\user1\\appdata\\roaming\\microsoft\\windows\\templates\\hashes_nt.txt, c:\\users\\user1\\appdata\\local\\microsoft\\windows\\schcache\\research.com.sch]</td>\n",
       "      <td>[HKU\\S-1-5-21-459946217-3195776219-3473239022-1112\\Software\\Microsoft\\ADs\\Providers\\LDAP\\CN=Aggregate,CN=Schema,CN=Configuration,DC=research,DC=com\\File, HKU\\S-1-5-21-459946217-3195776219-3473239022-1112\\Software\\Microsoft\\Windows\\CurrentVersion\\Internet Settings\\ZoneMap, HKLM\\System\\CurrentControlSet\\Services\\Tcpip\\Parameters, HKU\\S-1-5-21-459946217-3195776219-3473239022-1112\\Software\\Microsoft\\ADs\\Providers\\LDAP\\CN=Aggregate,CN=Schema,CN=Configuration,DC=research,DC=com]</td>\n",
       "      <td>[HKU\\S-1-5-21-459946217-3195776219-3473239022-1112\\Software\\Microsoft\\Windows\\CurrentVersion\\Internet Settings\\ZoneMap\\AutoDetect, HKU\\S-1-5-21-459946217-3195776219-3473239022-1112\\Software\\Microsoft\\Windows\\CurrentVersion\\Internet Settings\\ZoneMap\\IntranetName, HKU\\S-1-5-21-459946217-3195776219-3473239022-1112\\Software\\Microsoft\\ADs\\Providers\\LDAP\\CN=Aggregate,CN=Schema,CN=Configuration,DC=research,DC=com\\File, HKU\\S-1-5-21-459946217-3195776219-3473239022-1112\\Software\\Microsoft\\Windows\\CurrentVersion\\Internet Settings\\ZoneMap\\ProxyBypass, HKU\\S-1-5-21-459946217-3195776219-3473239022-1112\\Software\\Microsoft\\Windows\\CurrentVersion\\Internet Settings\\ZoneMap\\UNCAsIntranet, HKU\\S-1-5-21-459946217-3195776219-3473239022-1112\\Software\\Microsoft\\ADs\\Providers\\LDAP\\CN=Aggregate,CN=Schema,CN=Configuration,DC=research,DC=com\\Time]</td>\n",
       "      <td>None</td>\n",
       "      <td>2020-03-18 11:50:44.513</td>\n",
       "      <td>2020-03-18 11:50:44.513</td>\n",
       "      <td>2020-03-18 11:50:45.243</td>\n",
       "      <td>2020-03-18 11:50:45.243</td>\n",
       "      <td>2020-03-18 11:50:46.700</td>\n",
       "      <td>2020-03-18 11:50:46.700</td>\n",
       "    </tr>\n",
       "  </tbody>\n",
       "</table>\n",
       "</div>"
      ],
      "text/plain": [
       "  service_ticket_name_requests_account_by_sessions  \\\n",
       "0                                  [apacheservice]   \n",
       "1                                     [sqlservice]   \n",
       "\n",
       "                                 service_ticket_id ticket_encryption_type  \\\n",
       "0  [S-1-5-21-459946217-3195776219-3473239022-1111]                 [0x17]   \n",
       "1  [S-1-5-21-459946217-3195776219-3473239022-1110]                 [0x17]   \n",
       "\n",
       "                           process_guid           host_name  process_id  \\\n",
       "0  73308e2a-0b13-5e72-0000-001052d65300  win10.research.com        3328   \n",
       "1  73308e2a-0b13-5e72-0000-001052d65300  win10.research.com        3328   \n",
       "\n",
       "  process_name  \\\n",
       "0   rubeus.exe   \n",
       "1   rubeus.exe   \n",
       "\n",
       "                                                               process_path  \\\n",
       "0  c:\\users\\user1\\appdata\\roaming\\microsoft\\windows\\templates\\rubeus.exe   \n",
       "1  c:\\users\\user1\\appdata\\roaming\\microsoft\\windows\\templates\\rubeus.exe   \n",
       "\n",
       "                                                                                                        process_command_line  \\\n",
       "0  \"c:\\users\\user1\\appdata\\roaming\\microsoft\\windows\\templates\\rubeus.exe\" kerberoast /usetgtdeleg /outfile:hashes_nt.txt   \n",
       "1  \"c:\\users\\user1\\appdata\\roaming\\microsoft\\windows\\templates\\rubeus.exe\" kerberoast /usetgtdeleg /outfile:hashes_nt.txt   \n",
       "\n",
       "                                  hash_sha1       user_account  \\\n",
       "0  862241E2DBFF4384BCB61029D34585CBE1F9C39E  research\\user1   \n",
       "1  862241E2DBFF4384BCB61029D34585CBE1F9C39E  research\\user1   \n",
       "\n",
       "                                                                                                                       SearchFilter  \\\n",
       "0  [(&(samAccountType=805306368)(servicePrincipalName=*)(!samAccountName=krbtgt)(!(UserAccountControl:1.2.840.113556.1.4.803:=2)))]   \n",
       "1  [(&(samAccountType=805306368)(servicePrincipalName=*)(!samAccountName=krbtgt)(!(UserAccountControl:1.2.840.113556.1.4.803:=2)))]   \n",
       "\n",
       "      DistinguishedName src_ip_addr_ldapSeesion dst_ip_addr_ldapSeesion  \\\n",
       "0  [DC=research,DC=com]           10.169.232.12           10.169.232.11   \n",
       "1  [DC=research,DC=com]           10.169.232.12           10.169.232.11   \n",
       "\n",
       "   src_port_ldapSeesion  dst_port_ldapSeesion    ip_src_kerb    ip_dst_kerb  \\\n",
       "0                 49902                   389  10.169.232.12  10.169.232.11   \n",
       "1                 49902                   389  10.169.232.12  10.169.232.11   \n",
       "\n",
       "  port_src_kerb port_dst_kerb  \\\n",
       "0         49904            88   \n",
       "1         49903            88   \n",
       "\n",
       "                                                                                                                                                files_created  \\\n",
       "0  [c:\\users\\user1\\appdata\\roaming\\microsoft\\windows\\templates\\hashes_nt.txt, c:\\users\\user1\\appdata\\local\\microsoft\\windows\\schcache\\research.com.sch]   \n",
       "1  [c:\\users\\user1\\appdata\\roaming\\microsoft\\windows\\templates\\hashes_nt.txt, c:\\users\\user1\\appdata\\local\\microsoft\\windows\\schcache\\research.com.sch]   \n",
       "\n",
       "                                                                                                                                                                                                                                                                                                                                                                                                                                                                         registry_createdDeleted  \\\n",
       "0  [HKU\\S-1-5-21-459946217-3195776219-3473239022-1112\\Software\\Microsoft\\ADs\\Providers\\LDAP\\CN=Aggregate,CN=Schema,CN=Configuration,DC=research,DC=com\\File, HKU\\S-1-5-21-459946217-3195776219-3473239022-1112\\Software\\Microsoft\\Windows\\CurrentVersion\\Internet Settings\\ZoneMap, HKLM\\System\\CurrentControlSet\\Services\\Tcpip\\Parameters, HKU\\S-1-5-21-459946217-3195776219-3473239022-1112\\Software\\Microsoft\\ADs\\Providers\\LDAP\\CN=Aggregate,CN=Schema,CN=Configuration,DC=research,DC=com]   \n",
       "1  [HKU\\S-1-5-21-459946217-3195776219-3473239022-1112\\Software\\Microsoft\\ADs\\Providers\\LDAP\\CN=Aggregate,CN=Schema,CN=Configuration,DC=research,DC=com\\File, HKU\\S-1-5-21-459946217-3195776219-3473239022-1112\\Software\\Microsoft\\Windows\\CurrentVersion\\Internet Settings\\ZoneMap, HKLM\\System\\CurrentControlSet\\Services\\Tcpip\\Parameters, HKU\\S-1-5-21-459946217-3195776219-3473239022-1112\\Software\\Microsoft\\ADs\\Providers\\LDAP\\CN=Aggregate,CN=Schema,CN=Configuration,DC=research,DC=com]   \n",
       "\n",
       "                                                                                                                                                                                                                                                                                                                                                                                                                                                                                                                                                                                                                                                                                                                                                                                                                                                  registry_valueSet  \\\n",
       "0  [HKU\\S-1-5-21-459946217-3195776219-3473239022-1112\\Software\\Microsoft\\Windows\\CurrentVersion\\Internet Settings\\ZoneMap\\AutoDetect, HKU\\S-1-5-21-459946217-3195776219-3473239022-1112\\Software\\Microsoft\\Windows\\CurrentVersion\\Internet Settings\\ZoneMap\\IntranetName, HKU\\S-1-5-21-459946217-3195776219-3473239022-1112\\Software\\Microsoft\\ADs\\Providers\\LDAP\\CN=Aggregate,CN=Schema,CN=Configuration,DC=research,DC=com\\File, HKU\\S-1-5-21-459946217-3195776219-3473239022-1112\\Software\\Microsoft\\Windows\\CurrentVersion\\Internet Settings\\ZoneMap\\ProxyBypass, HKU\\S-1-5-21-459946217-3195776219-3473239022-1112\\Software\\Microsoft\\Windows\\CurrentVersion\\Internet Settings\\ZoneMap\\UNCAsIntranet, HKU\\S-1-5-21-459946217-3195776219-3473239022-1112\\Software\\Microsoft\\ADs\\Providers\\LDAP\\CN=Aggregate,CN=Schema,CN=Configuration,DC=research,DC=com\\Time]   \n",
       "1  [HKU\\S-1-5-21-459946217-3195776219-3473239022-1112\\Software\\Microsoft\\Windows\\CurrentVersion\\Internet Settings\\ZoneMap\\AutoDetect, HKU\\S-1-5-21-459946217-3195776219-3473239022-1112\\Software\\Microsoft\\Windows\\CurrentVersion\\Internet Settings\\ZoneMap\\IntranetName, HKU\\S-1-5-21-459946217-3195776219-3473239022-1112\\Software\\Microsoft\\ADs\\Providers\\LDAP\\CN=Aggregate,CN=Schema,CN=Configuration,DC=research,DC=com\\File, HKU\\S-1-5-21-459946217-3195776219-3473239022-1112\\Software\\Microsoft\\Windows\\CurrentVersion\\Internet Settings\\ZoneMap\\ProxyBypass, HKU\\S-1-5-21-459946217-3195776219-3473239022-1112\\Software\\Microsoft\\Windows\\CurrentVersion\\Internet Settings\\ZoneMap\\UNCAsIntranet, HKU\\S-1-5-21-459946217-3195776219-3473239022-1112\\Software\\Microsoft\\ADs\\Providers\\LDAP\\CN=Aggregate,CN=Schema,CN=Configuration,DC=research,DC=com\\Time]   \n",
       "\n",
       "  registry_rename requests_service_account_min_time  \\\n",
       "0            None           2020-03-18 11:50:44.545   \n",
       "1            None           2020-03-18 11:50:44.513   \n",
       "\n",
       "  requests_service_account_max_time min_time_communication_ldap  \\\n",
       "0           2020-03-18 11:50:44.545     2020-03-18 11:50:45.243   \n",
       "1           2020-03-18 11:50:44.513     2020-03-18 11:50:45.243   \n",
       "\n",
       "  max_time_communication_ldap            min_time_etw            max_time_etw  \n",
       "0     2020-03-18 11:50:45.243 2020-03-18 11:50:46.700 2020-03-18 11:50:46.700  \n",
       "1     2020-03-18 11:50:45.243 2020-03-18 11:50:46.700 2020-03-18 11:50:46.700  "
      ]
     },
     "execution_count": 32,
     "metadata": {},
     "output_type": "execute_result"
    }
   ],
   "source": [
    "final_results[[\"service_ticket_name_requests_account_by_sessions\",\"service_ticket_id\",\"ticket_encryption_type\",\"process_guid\",\"host_name\",\"process_id\",\"process_name\",\"process_path\",\"process_command_line\",\"hash_sha1\",\"user_account\",\"SearchFilter\",\"DistinguishedName\",\"src_ip_addr_ldapSeesion\",\"dst_ip_addr_ldapSeesion\",\"src_port_ldapSeesion\",\"dst_port_ldapSeesion\",\"ip_src_kerb\",\"ip_dst_kerb\",\"port_src_kerb\",\"port_dst_kerb\",\"files_created\",\"registry_createdDeleted\",\"registry_valueSet\",\"registry_rename\",\"requests_service_account_min_time\",\"requests_service_account_max_time\",\"min_time_communication_ldap\",\"max_time_communication_ldap\",\"min_time_etw\",\"max_time_etw\"]]"
   ]
  }
 ],
 "metadata": {
  "kernelspec": {
   "display_name": "PySpark_Python3",
   "language": "python",
   "name": "pyspark3"
  },
  "language_info": {
   "codemirror_mode": {
    "name": "ipython",
    "version": 3
   },
   "file_extension": ".py",
   "mimetype": "text/x-python",
   "name": "python",
   "nbconvert_exporter": "python",
   "pygments_lexer": "ipython3",
   "version": "3.7.6"
  }
 },
 "nbformat": 4,
 "nbformat_minor": 4
}
